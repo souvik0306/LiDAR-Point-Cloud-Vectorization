{
 "cells": [
  {
   "cell_type": "code",
   "execution_count": 6,
   "metadata": {},
   "outputs": [
    {
     "ename": "AttributeError",
     "evalue": "module 'open3d.visualization' has no attribute 'webrtc_server'",
     "output_type": "error",
     "traceback": [
      "\u001b[0;31m---------------------------------------------------------------------------\u001b[0m",
      "\u001b[0;31mAttributeError\u001b[0m                            Traceback (most recent call last)",
      "Cell \u001b[0;32mIn[6], line 8\u001b[0m\n\u001b[1;32m      6\u001b[0m \u001b[38;5;66;03m#3D Libraries\u001b[39;00m\n\u001b[1;32m      7\u001b[0m \u001b[38;5;28;01mimport\u001b[39;00m \u001b[38;5;21;01mopen3d\u001b[39;00m \u001b[38;5;28;01mas\u001b[39;00m \u001b[38;5;21;01mo3d\u001b[39;00m\n\u001b[0;32m----> 8\u001b[0m \u001b[43mo3d\u001b[49m\u001b[38;5;241;43m.\u001b[39;49m\u001b[43mvisualization\u001b[49m\u001b[38;5;241;43m.\u001b[39;49m\u001b[43mwebrtc_server\u001b[49m\u001b[38;5;241m.\u001b[39menable_webrtc()\n\u001b[1;32m     10\u001b[0m \u001b[38;5;66;03m# Continue with your point cloud visualization code\u001b[39;00m\n\u001b[1;32m     11\u001b[0m \u001b[38;5;28;01mimport\u001b[39;00m \u001b[38;5;21;01mlaspy\u001b[39;00m\n",
      "\u001b[0;31mAttributeError\u001b[0m: module 'open3d.visualization' has no attribute 'webrtc_server'"
     ]
    }
   ],
   "source": [
    "#Base libraries\n",
    "import numpy as np\n",
    "import matplotlib.pyplot as plt\n",
    "import pandas as pd\n",
    "\n",
    "#3D Libraries\n",
    "import open3d as o3d\n",
    "o3d.visualization.webrtc_server.enable_webrtc()\n",
    "\n",
    "# Continue with your point cloud visualization code\n",
    "import laspy\n",
    "print(laspy.__version__)\n",
    "\n",
    "#Geospatial libraries\n",
    "import rasterio\n",
    "import alphashape as ash\n",
    "import geopandas as gpd\n",
    "import shapely as sh\n",
    "\n",
    "from rasterio.transform import from_origin\n",
    "from rasterio.enums import Resampling\n",
    "from rasterio.features import shapes\n",
    "from shapely.geometry import Polygon"
   ]
  },
  {
   "cell_type": "code",
   "execution_count": 2,
   "metadata": {},
   "outputs": [
    {
     "name": "stdout",
     "output_type": "stream",
     "text": [
      "[1 2 3 5 6 7]\n",
      "['X', 'Y', 'Z', 'intensity', 'return_number', 'number_of_returns', 'synthetic', 'key_point', 'withheld', 'overlap', 'scanner_channel', 'scan_direction_flag', 'edge_of_flight_line', 'classification', 'user_data', 'scan_angle', 'point_source_id', 'gps_time', 'red', 'green', 'blue']\n",
      "PROJCS[\"NAD_1983_UTM_Zone_10N\",GEOGCS[\"GCS_North_American_1983\",DATUM[\"D_North_American_1983\",SPHEROID[\"GRS_1980\",6378137.0,298.257222101]],PRIMEM[\"Greenwich\",0.0],UNIT[\"Degree\",0.0174532925199433]],PROJECTION[\"Transverse_Mercator\"],PARAMETER[\"False_Easting\",500000.0],PARAMETER[\"False_Northing\",0.0],PARAMETER[\"Central_Meridian\",-123.0],PARAMETER[\"Scale_Factor\",0.9996],PARAMETER[\"Latitude_Of_Origin\",0.0],UNIT[\"Meter\",1.0],AUTHORITY[\"EPSG\",26910]]\n"
     ]
    }
   ],
   "source": [
    "las = laspy.read(r\"neighborhood.laz\")\n",
    "\n",
    "print(np.unique(las.classification))\n",
    "print([dimension.name for dimension in las.point_format.dimensions])\n",
    "\n",
    "crs = las.vlrs[2].string\n",
    "print(crs)"
   ]
  },
  {
   "cell_type": "code",
   "execution_count": 5,
   "metadata": {},
   "outputs": [
    {
     "ename": "AttributeError",
     "evalue": "module 'open3d.visualization' has no attribute 'webrtc_server'",
     "output_type": "error",
     "traceback": [
      "\u001b[0;31m---------------------------------------------------------------------------\u001b[0m",
      "\u001b[0;31mAttributeError\u001b[0m                            Traceback (most recent call last)",
      "Cell \u001b[0;32mIn[5], line 6\u001b[0m\n\u001b[1;32m      1\u001b[0m \u001b[38;5;66;03m#%% 3. Data Pre-Processing\u001b[39;00m\n\u001b[1;32m      2\u001b[0m \n\u001b[1;32m      3\u001b[0m \u001b[38;5;66;03m#%% 3.1.  Building points initialization\u001b[39;00m\n\u001b[1;32m      4\u001b[0m \u001b[38;5;66;03m# Create a Mask to filter points\u001b[39;00m\n\u001b[1;32m      5\u001b[0m \u001b[38;5;66;03m# pts_mask = las.classification == 6\u001b[39;00m\n\u001b[0;32m----> 6\u001b[0m \u001b[43mo3d\u001b[49m\u001b[38;5;241;43m.\u001b[39;49m\u001b[43mvisualization\u001b[49m\u001b[38;5;241;43m.\u001b[39;49m\u001b[43mwebrtc_server\u001b[49m\u001b[38;5;241m.\u001b[39menable_webrtc()\n\u001b[1;32m      8\u001b[0m \u001b[38;5;66;03m#Apply the mask and get the coordinates of the filtered dataset (note the t for transpose)\u001b[39;00m\n\u001b[1;32m      9\u001b[0m xyz_t \u001b[38;5;241m=\u001b[39m np\u001b[38;5;241m.\u001b[39mvstack((las\u001b[38;5;241m.\u001b[39mx, las\u001b[38;5;241m.\u001b[39my, las\u001b[38;5;241m.\u001b[39mz))\u001b[38;5;241m.\u001b[39mtranspose()\n",
      "\u001b[0;31mAttributeError\u001b[0m: module 'open3d.visualization' has no attribute 'webrtc_server'"
     ]
    }
   ],
   "source": [
    "#%% 3. Data Pre-Processing\n",
    "\n",
    "#%% 3.1.  Building points initialization\n",
    "# Create a Mask to filter points\n",
    "# pts_mask = las.classification == 6\n",
    "\n",
    "#Apply the mask and get the coordinates of the filtered dataset (note the t for transpose)\n",
    "xyz_t = np.vstack((las.x, las.y, las.z)).transpose()\n",
    "print(xyz_t.shape)\n",
    "\n",
    "#transform to Open3D.o3d.geometry.PointCloud and visualize\n",
    "pcd_o3d = o3d.geometry.PointCloud()\n",
    "pcd_o3d.points = o3d.utility.Vector3dVector(xyz_t)\n",
    "\n",
    "# voxel_size = 0.02    \n",
    "# pcd_down = pcd_o3d.voxel_down_sample(voxel_size=voxel_size)\n",
    "# #Visualize the results\n",
    "o3d.visualization.draw([pcd_o3d])"
   ]
  },
  {
   "cell_type": "code",
   "execution_count": null,
   "metadata": {},
   "outputs": [],
   "source": []
  },
  {
   "cell_type": "code",
   "execution_count": null,
   "metadata": {},
   "outputs": [],
   "source": []
  },
  {
   "cell_type": "code",
   "execution_count": null,
   "metadata": {},
   "outputs": [],
   "source": []
  }
 ],
 "metadata": {
  "kernelspec": {
   "display_name": "Python 3",
   "language": "python",
   "name": "python3"
  },
  "language_info": {
   "codemirror_mode": {
    "name": "ipython",
    "version": 3
   },
   "file_extension": ".py",
   "mimetype": "text/x-python",
   "name": "python",
   "nbconvert_exporter": "python",
   "pygments_lexer": "ipython3",
   "version": "3.9.6"
  }
 },
 "nbformat": 4,
 "nbformat_minor": 2
}
